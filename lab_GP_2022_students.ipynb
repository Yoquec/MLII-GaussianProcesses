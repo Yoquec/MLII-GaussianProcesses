{
 "cells": [
  {
   "cell_type": "markdown",
   "metadata": {},
   "source": [
    "Alvaro Viejo (100451677), Rodrigo Oliver (100451788), Oscar Montoya (100451858), Miguel Ángel Ponce (100451309)"
   ]
  },
  {
   "cell_type": "code",
   "execution_count": 1,
   "metadata": {
    "executionInfo": {
     "elapsed": 997,
     "status": "ok",
     "timestamp": 1604482757442,
     "user": {
      "displayName": "EMILIO PARRADO HERNANDEZ",
      "photoUrl": "https://lh3.googleusercontent.com/a-/AOh14Ghu-OvX6osyVq8b7J4Xa7D7HiZ61sPYwKqgPxyJ=s64",
      "userId": "09506376050266996513"
     },
     "user_tz": -60
    },
    "id": "lXyR3B1-cst0"
   },
   "outputs": [],
   "source": [
    "from IPython import display\n",
    "from IPython.core.display import Image"
   ]
  },
  {
   "cell_type": "code",
   "execution_count": 2,
   "metadata": {
    "executionInfo": {
     "elapsed": 1477,
     "status": "ok",
     "timestamp": 1604482757927,
     "user": {
      "displayName": "EMILIO PARRADO HERNANDEZ",
      "photoUrl": "https://lh3.googleusercontent.com/a-/AOh14Ghu-OvX6osyVq8b7J4Xa7D7HiZ61sPYwKqgPxyJ=s64",
      "userId": "09506376050266996513"
     },
     "user_tz": -60
    },
    "id": "McTkC40Tcst3"
   },
   "outputs": [],
   "source": [
    "%matplotlib inline\n",
    "%config InlineBackend.figure_format = 'retina'  "
   ]
  },
  {
   "cell_type": "code",
   "execution_count": 3,
   "metadata": {
    "executionInfo": {
     "elapsed": 1473,
     "status": "ok",
     "timestamp": 1604482757927,
     "user": {
      "displayName": "EMILIO PARRADO HERNANDEZ",
      "photoUrl": "https://lh3.googleusercontent.com/a-/AOh14Ghu-OvX6osyVq8b7J4Xa7D7HiZ61sPYwKqgPxyJ=s64",
      "userId": "09506376050266996513"
     },
     "user_tz": -60
    },
    "id": "lopz8Y9Ccst6"
   },
   "outputs": [],
   "source": [
    "\n",
    "import matplotlib.pyplot as plt\n",
    "import numpy as np\n",
    "from scipy.stats import multivariate_normal, norm\n",
    "import pandas as pd"
   ]
  },
  {
   "cell_type": "markdown",
   "metadata": {
    "id": "-8pLlMwKcst8"
   },
   "source": [
    "## Degree in Data Science and Engineering, group 96\n",
    "## Machine Learning 2\n",
    "### Fall 2022\n",
    "\n",
    "&nbsp;\n",
    "&nbsp;\n",
    "&nbsp;\n",
    "# Lab 4. Gaussian Processes\n",
    "\n",
    "&nbsp;\n",
    "&nbsp;\n",
    "&nbsp;\n",
    "\n",
    "**Emilio Parrado Hernández**\n",
    "\n",
    "Dept. of Signal Processing and Communications\n",
    "\n",
    "&nbsp;\n",
    "&nbsp;\n",
    "&nbsp;\n",
    "\n",
    "\n",
    "\n",
    "\n",
    "<img src='http://www.tsc.uc3m.es/~emipar/BBVA/INTRO/img/logo_uc3m_foot.jpg' width=400 />"
   ]
  },
  {
   "cell_type": "markdown",
   "metadata": {
    "id": "ZqqigYrw4WXW"
   },
   "source": [
    "# Diabetes dataset\n",
    "\n",
    "[Diabetes](https://scikit-learn.org/stable/datasets/index.html#diabetes-dataset) is another classic benchmark for regression. Each observation corresponds to a diabetes patient represented by 10 variables and the corresponding target is a score that measures  the disease progression one year after baseline.\n",
    "\n",
    "The variables that form each observation are:\n",
    "- age in years\n",
    "\n",
    "- sex\n",
    "\n",
    "- bmi body mass index\n",
    "\n",
    "- bp average blood pressure\n",
    "\n",
    "- six measures taken from the blood of the patient:\n",
    "  - s1 tc, T-Cells (a type of white blood cells)\n",
    "\n",
    "  - s2 ldl, low-density lipoproteins\n",
    "\n",
    "  - s3 hdl, high-density lipoproteins\n",
    "\n",
    "  - s4 tch, thyroid stimulating hormone\n",
    "\n",
    "  - s5 ltg, lamotrigine\n",
    "\n",
    "  - s6 glu, blood sugar level\n"
   ]
  },
  {
   "cell_type": "code",
   "execution_count": 230,
   "metadata": {
    "colab": {
     "base_uri": "https://localhost:8080/"
    },
    "executionInfo": {
     "elapsed": 2256,
     "status": "ok",
     "timestamp": 1604482758714,
     "user": {
      "displayName": "EMILIO PARRADO HERNANDEZ",
      "photoUrl": "https://lh3.googleusercontent.com/a-/AOh14Ghu-OvX6osyVq8b7J4Xa7D7HiZ61sPYwKqgPxyJ=s64",
      "userId": "09506376050266996513"
     },
     "user_tz": -60
    },
    "id": "aIgJdjQGcst_",
    "outputId": "beaf2ca4-ad23-424a-f1f6-8f42ab8fd18c"
   },
   "outputs": [
    {
     "name": "stdout",
     "output_type": "stream",
     "text": [
      "Feature names are\n",
      "Column 0: AGE\n",
      "Column 1: SEX\n",
      "Column 2: BMI\n",
      "Column 3: BP\n",
      "Column 4: TC\n",
      "Column 5: LDL\n",
      "Column 6: HDL\n",
      "Column 7: TCH\n",
      "Column 8: LTG\n",
      "Column 9: GLU\n",
      "\n",
      "Loaded 442 observations with 10 columns\n",
      "Loaded 442 targets\n"
     ]
    }
   ],
   "source": [
    "\n",
    "data = pd.read_csv('diabetes.csv', header=0)\n",
    "data.columns = ['AGE', 'SEX', 'BMI', 'BP','TC','LDL','HDL','TCH','LTG','GLU','Y']\n",
    "feature_names = data.columns # list with feature names\n",
    "print(\"Feature names are\")\n",
    "for ii,fn  in enumerate(feature_names[:-1]):\n",
    "    print(\"Column {0:d}: {1}\".format(ii,fn))\n",
    "X = data.values[:,:-1]\n",
    "Y = data['Y'].values\n",
    "print(\"\")\n",
    "print(\"Loaded {0:d} observations with {1:d} columns\".format(X.shape[0], X.shape[1]))\n",
    "print(\"Loaded {0:d} targets\".format(len(Y)))\n"
   ]
  },
  {
   "cell_type": "markdown",
   "metadata": {},
   "source": [
    "# Splitting into training and test set\n",
    "\n",
    "Divide the data set into a training set with $2/3$ of the observations.\n",
    "\n",
    "We use the train_test_split function of sklearn:"
   ]
  },
  {
   "cell_type": "code",
   "execution_count": 231,
   "metadata": {},
   "outputs": [
    {
     "name": "stdout",
     "output_type": "stream",
     "text": [
      "len(X_train)=294\n",
      "len(X_test)=148\n"
     ]
    }
   ],
   "source": [
    "from sklearn.model_selection import train_test_split\n",
    "\n",
    "train_test_prop = 2/3\n",
    "X_train, X_test, y_train, y_test = train_test_split(X,Y, \n",
    "    train_size = train_test_prop, random_state=42)\n",
    "\n",
    "# Check sizes are correct\n",
    "print(f\"{len(X_train)=}\")\n",
    "print(f\"{len(X_test)=}\")"
   ]
  },
  {
   "cell_type": "markdown",
   "metadata": {},
   "source": [
    "# 1. Gaussian Process Regression initial result\n",
    "\n",
    "Train a Gaussian Process with a composite kernel formed with the sum of:\n",
    "  - RBF kernel:\n",
    "     - `length_scale`= 1.5\n",
    "     - `length_scale_bounds` [1e-2, 1e3]\n",
    "  - White noise kernel:\n",
    "     - `noise_level`=0.1\n",
    "     - `noise_level_bounds` [1e-10, 1e6]\n",
    "     \n",
    "**Print the performance of the model in the test set.**\n",
    "\n",
    "**Print the values of the kernel parameters after the GP optimization.**"
   ]
  },
  {
   "cell_type": "code",
   "execution_count": 232,
   "metadata": {},
   "outputs": [
    {
     "name": "stdout",
     "output_type": "stream",
     "text": [
      "Score in the test set: 0.4665612298772024 \n",
      "\n",
      "{'alpha': 1e-10, 'copy_X_train': True, 'kernel__k1': 1**2 * RBF(length_scale=1.5), 'kernel__k2': WhiteKernel(noise_level=0.1), 'kernel__k1__k1': 1**2, 'kernel__k1__k2': RBF(length_scale=1.5), 'kernel__k1__k1__constant_value': 1.0, 'kernel__k1__k1__constant_value_bounds': (1e-05, 100000.0), 'kernel__k1__k2__length_scale': 1.5, 'kernel__k1__k2__length_scale_bounds': (0.01, 1000.0), 'kernel__k2__noise_level': 0.1, 'kernel__k2__noise_level_bounds': (1e-10, 1000000.0), 'kernel': 1**2 * RBF(length_scale=1.5) + WhiteKernel(noise_level=0.1), 'n_restarts_optimizer': 10, 'normalize_y': False, 'optimizer': 'fmin_l_bfgs_b', 'random_state': 42}\n",
      "\n",
      "OPTIMIZED KERNEL: 316**2 * RBF(length_scale=171) + WhiteKernel(noise_level=3.22e+03)\n"
     ]
    },
    {
     "name": "stderr",
     "output_type": "stream",
     "text": [
      "c:\\Users\\34649\\anaconda3\\envs\\ML\\lib\\site-packages\\sklearn\\gaussian_process\\kernels.py:430: ConvergenceWarning: The optimal value found for dimension 0 of parameter k1__k1__constant_value is close to the specified upper bound 100000.0. Increasing the bound and calling fit again may find a better value.\n",
      "  warnings.warn(\n"
     ]
    }
   ],
   "source": [
    "from sklearn.gaussian_process import GaussianProcessRegressor\n",
    "from sklearn.gaussian_process.kernels import RBF, WhiteKernel\n",
    "\n",
    "noise_variance = .1\n",
    "\n",
    "# instantiate the composite kernel\n",
    "kernel_1 = 1.0 * RBF(length_scale=1.5, length_scale_bounds=(1e-2, 1e3)) + WhiteKernel(noise_level=0.1, noise_level_bounds=(1e-10,1e6))\n",
    "\n",
    "# instantiate the GP\n",
    "gpr = GaussianProcessRegressor(kernel=kernel_1, random_state=42, n_restarts_optimizer=10)\n",
    "\n",
    "# GaussianProcessRegressor(n_restarts_optimizer=10) this is in case we have the bad luck to get stuck and it makes it repeat the process\n",
    "\n",
    "gpr.fit(X_train, y_train)\n",
    "#y_mean, y_std = gpr.predict(X_test, return_std=True)\n",
    "\n",
    "# Print results\n",
    "print(\"Score in the test set:\", gpr.score(X_test, y_test), \"\\n\")\n",
    "print(gpr.get_params())\n",
    "\n",
    "print(\"\\nOPTIMIZED KERNEL:\",gpr.kernel_)\n"
   ]
  },
  {
   "cell_type": "markdown",
   "metadata": {},
   "source": [
    "### Your comments:\n",
    "\n",
    "**Discuss about the differences between the kernel parameters before and after optimizing the GP.**\n",
    "\n",
    "We can clearly see that the kernel has been optimized as the values of the parameters have changed. The kernel describes the covariance of the GP r.v..\n"
   ]
  },
  {
   "cell_type": "markdown",
   "metadata": {},
   "source": [
    "# 2. Strategies to improve the initial result\n",
    "\n",
    "In this assignment we are going to explore three strategies to improve this initial result\n",
    "\n",
    "1. Scaling the data\n",
    "2. Feature selection\n",
    "3. Kernel design"
   ]
  },
  {
   "cell_type": "markdown",
   "metadata": {},
   "source": [
    "## 2.1 Scaling the data\n",
    "\n",
    "Repeat the experiment that produced the baseline result scaling the observations with a `MinMaxScaler` and evaluate the impact of this scaling in the performance of the GP. "
   ]
  },
  {
   "cell_type": "code",
   "execution_count": 233,
   "metadata": {},
   "outputs": [
    {
     "name": "stdout",
     "output_type": "stream",
     "text": [
      "        AGE  SEX       BMI        BP        TC       LDL       HDL       TCH  \\\n",
      "0  0.666667  1.0  0.582645  0.549296  0.294118  0.256972  0.207792  0.282087   \n",
      "1  0.483333  0.0  0.148760  0.352113  0.421569  0.306773  0.623377  0.141044   \n",
      "2  0.883333  1.0  0.516529  0.436620  0.289216  0.258964  0.246753  0.282087   \n",
      "3  0.083333  0.0  0.301653  0.309859  0.495098  0.447211  0.233766  0.423131   \n",
      "4  0.516667  0.0  0.206612  0.549296  0.465686  0.417331  0.389610  0.282087   \n",
      "\n",
      "        LTG       GLU         Y  \n",
      "0  0.562217  0.439394  0.392523  \n",
      "1  0.222437  0.166667  0.155763  \n",
      "2  0.496578  0.409091  0.361371  \n",
      "3  0.572923  0.469697  0.563863  \n",
      "4  0.362385  0.333333  0.342679  \n"
     ]
    }
   ],
   "source": [
    "from sklearn.preprocessing import MinMaxScaler\n",
    "\n",
    "# Scale data\n",
    "scaler = MinMaxScaler()\n",
    "data_sca = pd.DataFrame(scaler.fit_transform(data), columns=feature_names)\n",
    "\n",
    "# Separate predictors and target\n",
    "X_sca = data_sca.iloc[:, :-1]\n",
    "Y_sca = data_sca.iloc[:, -1]\n",
    "\n",
    "X_train_sca, X_test_sca, y_train_sca, y_test_sca = train_test_split(\n",
    "    X_sca, Y_sca, train_size=2/3, random_state=42)\n",
    "\n",
    "# Print the scaled\n",
    "print(data_sca.head())"
   ]
  },
  {
   "cell_type": "code",
   "execution_count": 234,
   "metadata": {},
   "outputs": [
    {
     "name": "stdout",
     "output_type": "stream",
     "text": [
      "Score in the test set: 0.5267109067080147 \n",
      "\n",
      "{'alpha': 1e-10, 'copy_X_train': True, 'kernel__k1': 1**2 * RBF(length_scale=1.5), 'kernel__k2': WhiteKernel(noise_level=0.1), 'kernel__k1__k1': 1**2, 'kernel__k1__k2': RBF(length_scale=1.5), 'kernel__k1__k1__constant_value': 1.0, 'kernel__k1__k1__constant_value_bounds': (1e-05, 100000.0), 'kernel__k1__k2__length_scale': 1.5, 'kernel__k1__k2__length_scale_bounds': (0.01, 1000.0), 'kernel__k2__noise_level': 0.1, 'kernel__k2__noise_level_bounds': (1e-10, 1000000.0), 'kernel': 1**2 * RBF(length_scale=1.5) + WhiteKernel(noise_level=0.1), 'n_restarts_optimizer': 10, 'normalize_y': False, 'optimizer': 'fmin_l_bfgs_b', 'random_state': 42}\n",
      "\n",
      "OPTIMIZED KERNEL: 0.796**2 * RBF(length_scale=3.4) + WhiteKernel(noise_level=0.0295)\n"
     ]
    }
   ],
   "source": [
    "# Fit the scaled data onto the Gaussian process with optimized kernel\n",
    "gpr.fit(X_train_sca, y_train_sca)\n",
    "# Get the prediction results\n",
    "y_mean, y_std = gpr.predict(X_test_sca, return_std=True)\n",
    "\n",
    "# Print the results\n",
    "print(\"Score in the test set:\", gpr.score(X_test_sca, y_test_sca), \"\\n\")\n",
    "print(gpr.get_params())\n",
    "\n",
    "print(\"\\nOPTIMIZED KERNEL:\",gpr.kernel_)"
   ]
  },
  {
   "cell_type": "code",
   "execution_count": 235,
   "metadata": {},
   "outputs": [
    {
     "data": {
      "image/png": "[encoded data removed]",
      "text/plain": [
       "<Figure size 432x288 with 1 Axes>"
      ]
     },
     "metadata": {
      "image/png": {
       "height": 248,
       "width": 372
      },
      "needs_background": "light"
     },
     "output_type": "display_data"
    }
   ],
   "source": [
    "# Create a common x axis\n",
    "x_range = range(len(y_mean))\n",
    "\n",
    "# plot the information\n",
    "plt.plot(x_range, y_mean, label=\"GP mean\")\n",
    "plt.plot(x_range, y_mean-y_std, color=\"pink\", linestyle=\"--\", label=\"1 std\")\n",
    "plt.plot(x_range, y_mean+y_std, color=\"pink\", linestyle=\"--\")\n",
    "plt.scatter(x_range, y_test_sca, color=\"olive\", marker=\"x\", label=\"Y test\")\n",
    "plt.fill_between(x_range, y1=y_mean-y_std, y2=y_mean +\n",
    "\n",
    "plt.xlim((0, 50))\n",
    "plt.xlabel(\"Observation Index\")\n",
    "plt.ylabel(\"Value\")\n",
    "plt.title\n",
    "\n",
    "                 y_std, color=\"pink\", alpha=0.20)\n",
    "plt.legend()\n",
    "plt.grid()\n"
   ]
  },
  {
   "cell_type": "markdown",
   "metadata": {},
   "source": [
    "### Your comments:\n",
    "\n",
    "**Did scaling improve the accuracy of the GP?**\n",
    "\n",
    "**Did scaling affect to the final value of the kernel parameters after the optimization?**"
   ]
  },
  {
   "cell_type": "markdown",
   "metadata": {
    "id": "jvtbdKOMohFY"
   },
   "source": [
    "## 2.2 Feature selection\n",
    "\n",
    "The goal in this strategy is to study\n",
    "- if any of the variables is noisy (its presence worsens the performance of the regressors)\n",
    "- if any of the variables is not relevant (its presence or absence does not affect the performance of the regressor, hence you could save resources by skipping its measure\n",
    "- if some of these variables are more critical than the others in the conformation of the score. This way you can gain insights about the main drivers of the disease.\n",
    "\n",
    "We will explore two strategies to perform the feature selection\n",
    "\n",
    "1. Random Forests property `feature_importances_`.  \n",
    "\n",
    "2. GP with an ARD kernel\n",
    "\n"
   ]
  },
  {
   "cell_type": "markdown",
   "metadata": {},
   "source": [
    "### 2.2.1 Random Forests `feature_importances_`\n",
    "\n",
    "In Random Forest the variables are individually selected to design the stump test in each branch node of each tree in the forest. Relevant variables will be in general oftenly selected for these test, while noisy or redundant variables will be selected less oftenly.  Besides, since the growing of each tree only considers a subset of the training data, the left-out subset can be used as validation set to evaluate the quality of each stump. In this sense, the most relevant variables will lead to better quality stumps.\n",
    "\n",
    "In the sklearn implementation of Random Forest there is a property `feature_importances_` that is precisely a score in the relevance of the features.\n"
   ]
  },
  {
   "cell_type": "markdown",
   "metadata": {},
   "source": [
    "In the following cell write code that\n",
    " 1. Train a Random Forest Regressor with its hyperparameters selected by cross-validation within the following  ranges\n",
    "  - number of trees: 10, 20, 50, 100, 200, 500, 1000\n",
    "  - maximum number of leaves per node: 5, 10, 20, 50\n",
    "  \n",
    " 2. Print the score in the test set  of the Random Forest fitted with the best set of hyperparameters\n",
    " \n",
    " 3. Print the value of `feature_importances_` for each feature in the data set\n",
    " \n",
    " 4. Sort the features in order of decreasing importance in an array called `random_forest_order`\n",
    " \n",
    " "
   ]
  },
  {
   "cell_type": "markdown",
   "metadata": {},
   "source": [
    "We will use the GridSearchCV for the cross-validation of the best hyperparameters:"
   ]
  },
  {
   "cell_type": "code",
   "execution_count": 236,
   "metadata": {},
   "outputs": [
    {
     "name": "stdout",
     "output_type": "stream",
     "text": [
      "Test Set Score with best parameters\n",
      "0.46\n",
      "Best parameters\n",
      "{'max_leaf_nodes': 20, 'n_estimators': 50}\n",
      "Feature importance: \n",
      " [0.04513156 0.00641518 0.41781305 0.12550444 0.04210964 0.03991253\n",
      " 0.05454558 0.01334782 0.20707316 0.04814704]\n"
     ]
    }
   ],
   "source": [
    "from sklearn.ensemble import RandomForestRegressor\n",
    "from sklearn.model_selection import GridSearchCV\n",
    "\n",
    "#Parameter Grid\n",
    "\n",
    "hypams = {\n",
    "    \"n_estimators\": [10,20,50,100,200,500,1000],\n",
    "    \"max_leaf_nodes\": [5,10,20,50]\n",
    "}\n",
    "#Model\n",
    "rforest_reg = RandomForestRegressor()\n",
    "#grid search with cv:\n",
    "grid_rf_reg = GridSearchCV(rforest_reg, hypams)\n",
    "\n",
    "#fit\n",
    "grid_rf_reg.fit(X_train, y_train)\n",
    "\n",
    "#Evaluation with test set\n",
    "test_error_gridrf_reg =  grid_rf_reg.score(X_test,y_test)\n",
    "\n",
    "print(\"Test Set Score with best parameters\")\n",
    "print(np.round(test_error_gridrf_reg,3))\n",
    "print(\"Best parameters\")\n",
    "print(grid_rf_reg.best_params_)\n",
    "best_max_leaf=grid_rf_reg.best_params_['max_leaf_nodes']\n",
    "best_n_estimators=grid_rf_reg.best_params_['n_estimators']\n",
    "\n",
    "rforest_reg_importance = RandomForestRegressor(n_estimators=best_n_estimators, max_leaf_nodes=best_max_leaf).fit(X_train, y_train).feature_importances_\n",
    "print(\"Feature importance: \\n\", rforest_reg_importance)\n"
   ]
  },
  {
   "cell_type": "markdown",
   "metadata": {},
   "source": [
    "Importances sorted:"
   ]
  },
  {
   "cell_type": "code",
   "execution_count": 237,
   "metadata": {},
   "outputs": [
    {
     "name": "stdout",
     "output_type": "stream",
     "text": [
      "[0.4178130529256137, 0.2070731633999978, 0.12550444158905488, 0.054545579664199983, 0.048147041892256076, 0.04513155955272344, 0.042109638795853284, 0.03991252598216085, 0.013347819628882674, 0.006415176569257299]\n"
     ]
    }
   ],
   "source": [
    "rforest_reg_importance_s=np.sort(rforest_reg_importance)\n",
    "rforest_reg_importance_sort=[]\n",
    "for i in range(len(rforest_reg_importance)):\n",
    "    rforest_reg_importance_sort.insert(0, rforest_reg_importance_s[i])\n",
    "print(rforest_reg_importance_sort)\n"
   ]
  },
  {
   "cell_type": "markdown",
   "metadata": {},
   "source": [
    "### Your comments:\n",
    "\n",
    "**Did RF perform in the test set better than GP?**\n",
    "\n",
    "**What are the more relevant features according to RF?**\n",
    "\n",
    "**Are there significant differences in relevance among the features?**\n",
    "\n"
   ]
  },
  {
   "cell_type": "markdown",
   "metadata": {},
   "source": [
    "In the next cell write code that implements a `for loop` that in each iteration trains a GP with the settings of Section 1 but increasing the number of features in the ordering suggested by `random_forest_order`. \n",
    "\n",
    "Plot the GP accuracy in the test set vs. the number of features used to model the problem."
   ]
  },
  {
   "cell_type": "markdown",
   "metadata": {},
   "source": [
    "First we need to create a list for every feature so we can add one by one by importance:"
   ]
  },
  {
   "cell_type": "code",
   "execution_count": 238,
   "metadata": {},
   "outputs": [],
   "source": [
    "features={}\n",
    "rforest_reg_importance=rforest_reg_importance.tolist()\n",
    "for i in range(len(rforest_reg_importance_sort)):\n",
    "    features[str(rforest_reg_importance.index(rforest_reg_importance_sort[i]))]=rforest_reg_importance_sort[i]\n"
   ]
  },
  {
   "cell_type": "code",
   "execution_count": 239,
   "metadata": {},
   "outputs": [
    {
     "name": "stdout",
     "output_type": "stream",
     "text": [
      "{'2': 0.4178130529256137, '8': 0.2070731633999978, '3': 0.12550444158905488, '6': 0.054545579664199983, '9': 0.048147041892256076, '0': 0.04513155955272344, '4': 0.042109638795853284, '5': 0.03991252598216085, '7': 0.013347819628882674, '1': 0.006415176569257299}\n"
     ]
    }
   ],
   "source": [
    "print(features)\n",
    "list_features=list(features.keys())"
   ]
  },
  {
   "cell_type": "code",
   "execution_count": 240,
   "metadata": {},
   "outputs": [
    {
     "name": "stdout",
     "output_type": "stream",
     "text": [
      "<class 'list'>\n",
      "Columns Used: [2]\n",
      "Score in the test set: 0.3166184649527475 \n",
      "\n",
      "\n",
      "OPTIMIZED KERNEL: 311**2 * RBF(length_scale=38.7) + WhiteKernel(noise_level=3.93e+03) \n",
      "\n",
      "\n"
     ]
    },
    {
     "name": "stderr",
     "output_type": "stream",
     "text": [
      "c:\\Users\\34649\\anaconda3\\envs\\ML\\lib\\site-packages\\sklearn\\gaussian_process\\kernels.py:430: ConvergenceWarning: The optimal value found for dimension 0 of parameter k1__k1__constant_value is close to the specified upper bound 100000.0. Increasing the bound and calling fit again may find a better value.\n",
      "  warnings.warn(\n"
     ]
    },
    {
     "name": "stdout",
     "output_type": "stream",
     "text": [
      "Columns Used: [2, 8]\n",
      "Score in the test set: 0.48728385444261946 \n",
      "\n",
      "\n",
      "OPTIMIZED KERNEL: 316**2 * RBF(length_scale=15.8) + WhiteKernel(noise_level=3.44e+03) \n",
      "\n",
      "\n"
     ]
    },
    {
     "name": "stderr",
     "output_type": "stream",
     "text": [
      "c:\\Users\\34649\\anaconda3\\envs\\ML\\lib\\site-packages\\sklearn\\gaussian_process\\kernels.py:430: ConvergenceWarning: The optimal value found for dimension 0 of parameter k1__k1__constant_value is close to the specified upper bound 100000.0. Increasing the bound and calling fit again may find a better value.\n",
      "  warnings.warn(\n"
     ]
    },
    {
     "name": "stdout",
     "output_type": "stream",
     "text": [
      "Columns Used: [2, 8, 3]\n",
      "Score in the test set: 0.43696179669407553 \n",
      "\n",
      "\n",
      "OPTIMIZED KERNEL: 316**2 * RBF(length_scale=43.4) + WhiteKernel(noise_level=3.32e+03) \n",
      "\n",
      "\n"
     ]
    },
    {
     "name": "stderr",
     "output_type": "stream",
     "text": [
      "c:\\Users\\34649\\anaconda3\\envs\\ML\\lib\\site-packages\\sklearn\\gaussian_process\\kernels.py:430: ConvergenceWarning: The optimal value found for dimension 0 of parameter k1__k1__constant_value is close to the specified upper bound 100000.0. Increasing the bound and calling fit again may find a better value.\n",
      "  warnings.warn(\n"
     ]
    },
    {
     "name": "stdout",
     "output_type": "stream",
     "text": [
      "Columns Used: [2, 8, 3, 6]\n",
      "Score in the test set: 0.41423636131538366 \n",
      "\n",
      "\n",
      "OPTIMIZED KERNEL: 316**2 * RBF(length_scale=85.3) + WhiteKernel(noise_level=3.28e+03) \n",
      "\n",
      "\n"
     ]
    },
    {
     "name": "stderr",
     "output_type": "stream",
     "text": [
      "c:\\Users\\34649\\anaconda3\\envs\\ML\\lib\\site-packages\\sklearn\\gaussian_process\\kernels.py:430: ConvergenceWarning: The optimal value found for dimension 0 of parameter k1__k1__constant_value is close to the specified upper bound 100000.0. Increasing the bound and calling fit again may find a better value.\n",
      "  warnings.warn(\n"
     ]
    },
    {
     "name": "stdout",
     "output_type": "stream",
     "text": [
      "Columns Used: [2, 8, 3, 6, 9]\n",
      "Score in the test set: 0.42116738042820523 \n",
      "\n",
      "\n",
      "OPTIMIZED KERNEL: 316**2 * RBF(length_scale=106) + WhiteKernel(noise_level=3.31e+03) \n",
      "\n",
      "\n"
     ]
    },
    {
     "name": "stderr",
     "output_type": "stream",
     "text": [
      "c:\\Users\\34649\\anaconda3\\envs\\ML\\lib\\site-packages\\sklearn\\gaussian_process\\kernels.py:430: ConvergenceWarning: The optimal value found for dimension 0 of parameter k1__k1__constant_value is close to the specified upper bound 100000.0. Increasing the bound and calling fit again may find a better value.\n",
      "  warnings.warn(\n"
     ]
    },
    {
     "name": "stdout",
     "output_type": "stream",
     "text": [
      "Columns Used: [2, 8, 3, 6, 9, 0]\n",
      "Score in the test set: 0.4281543125712586 \n",
      "\n",
      "\n",
      "OPTIMIZED KERNEL: 316**2 * RBF(length_scale=115) + WhiteKernel(noise_level=3.28e+03) \n",
      "\n",
      "\n"
     ]
    },
    {
     "name": "stderr",
     "output_type": "stream",
     "text": [
      "c:\\Users\\34649\\anaconda3\\envs\\ML\\lib\\site-packages\\sklearn\\gaussian_process\\kernels.py:430: ConvergenceWarning: The optimal value found for dimension 0 of parameter k1__k1__constant_value is close to the specified upper bound 100000.0. Increasing the bound and calling fit again may find a better value.\n",
      "  warnings.warn(\n"
     ]
    },
    {
     "name": "stdout",
     "output_type": "stream",
     "text": [
      "Columns Used: [2, 8, 3, 6, 9, 0, 4]\n",
      "Score in the test set: 0.41068437177057326 \n",
      "\n",
      "\n",
      "OPTIMIZED KERNEL: 316**2 * RBF(length_scale=155) + WhiteKernel(noise_level=3.34e+03) \n",
      "\n",
      "\n"
     ]
    },
    {
     "name": "stderr",
     "output_type": "stream",
     "text": [
      "c:\\Users\\34649\\anaconda3\\envs\\ML\\lib\\site-packages\\sklearn\\gaussian_process\\kernels.py:430: ConvergenceWarning: The optimal value found for dimension 0 of parameter k1__k1__constant_value is close to the specified upper bound 100000.0. Increasing the bound and calling fit again may find a better value.\n",
      "  warnings.warn(\n"
     ]
    },
    {
     "name": "stdout",
     "output_type": "stream",
     "text": [
      "Columns Used: [2, 8, 3, 6, 9, 0, 4, 5]\n",
      "Score in the test set: 0.46431179717031557 \n",
      "\n",
      "\n",
      "OPTIMIZED KERNEL: 316**2 * RBF(length_scale=173) + WhiteKernel(noise_level=3.23e+03) \n",
      "\n",
      "\n"
     ]
    },
    {
     "name": "stderr",
     "output_type": "stream",
     "text": [
      "c:\\Users\\34649\\anaconda3\\envs\\ML\\lib\\site-packages\\sklearn\\gaussian_process\\kernels.py:430: ConvergenceWarning: The optimal value found for dimension 0 of parameter k1__k1__constant_value is close to the specified upper bound 100000.0. Increasing the bound and calling fit again may find a better value.\n",
      "  warnings.warn(\n"
     ]
    },
    {
     "name": "stdout",
     "output_type": "stream",
     "text": [
      "Columns Used: [2, 8, 3, 6, 9, 0, 4, 5, 7]\n",
      "Score in the test set: 0.46439674481155757 \n",
      "\n",
      "\n",
      "OPTIMIZED KERNEL: 316**2 * RBF(length_scale=173) + WhiteKernel(noise_level=3.23e+03) \n",
      "\n",
      "\n",
      "Columns Used: [2, 8, 3, 6, 9, 0, 4, 5, 7, 1]\n",
      "Score in the test set: 0.4665612298771902 \n",
      "\n",
      "\n",
      "OPTIMIZED KERNEL: 316**2 * RBF(length_scale=171) + WhiteKernel(noise_level=3.22e+03) \n",
      "\n",
      "\n"
     ]
    },
    {
     "name": "stderr",
     "output_type": "stream",
     "text": [
      "c:\\Users\\34649\\anaconda3\\envs\\ML\\lib\\site-packages\\sklearn\\gaussian_process\\kernels.py:430: ConvergenceWarning: The optimal value found for dimension 0 of parameter k1__k1__constant_value is close to the specified upper bound 100000.0. Increasing the bound and calling fit again may find a better value.\n",
      "  warnings.warn(\n"
     ]
    }
   ],
   "source": [
    "cols=[]\n",
    "scores=[]\n",
    "columns_used=[]\n",
    "print(type(cols))\n",
    "for i in range(len(features)):\n",
    "    cols.append(int(list_features[i]))\n",
    "\n",
    "    gpr.fit(X_train[:,cols], y_train)\n",
    "    y_mean, y_std = gpr.predict(X_test[:, cols], return_std=True)\n",
    "\n",
    "    gpr_score=gpr.score(X_test[:,cols], y_test)\n",
    "    scores.append(gpr_score)\n",
    "    columns_used.append(i)\n",
    "    print(\"Columns Used:\", cols)\n",
    "    print(\"Score in the test set:\", gpr_score, \"\\n\")\n",
    "    #print(gpr.get_params()) output too long\n",
    "\n",
    "    print(\"\\nOPTIMIZED KERNEL:\",gpr.kernel_, \"\\n\\n\")"
   ]
  },
  {
   "cell_type": "code",
   "execution_count": 241,
   "metadata": {},
   "outputs": [
    {
     "name": "stdout",
     "output_type": "stream",
     "text": [
      "[0.3166184649527475, 0.48728385444261946, 0.43696179669407553, 0.41423636131538366, 0.42116738042820523, 0.4281543125712586, 0.41068437177057326, 0.46431179717031557, 0.46439674481155757, 0.4665612298771902]\n",
      "[0, 1, 2, 3, 4, 5, 6, 7, 8, 9]\n"
     ]
    },
    {
     "data": {
      "image/png": "[encoded data removed]",
      "text/plain": [
       "<Figure size 432x288 with 1 Axes>"
      ]
     },
     "metadata": {
      "image/png": {
       "height": 261,
       "width": 398
      },
      "needs_background": "light"
     },
     "output_type": "display_data"
    }
   ],
   "source": [
    "print(scores)\n",
    "print(columns_used)\n",
    "\n",
    "plt.plot(np.array(columns_used), np.array(scores))\n",
    "plt.ylabel('accuracy')\n",
    "plt.xlabel('columns')\n",
    "plt.grid()"
   ]
  },
  {
   "cell_type": "markdown",
   "metadata": {},
   "source": [
    "### Your comments:\n",
    "\n",
    "**What is the best number of features to model the problem?**\n",
    "\n",
    "**Does removing features improve the performance of RF?**\n",
    "\n",
    "**Are there noisy features? (Features that, if present, significantly worsen the performance of the GP)**\n",
    "\n"
   ]
  },
  {
   "cell_type": "markdown",
   "metadata": {},
   "source": [
    "### 2.2.2 GP with an ARD kernel\n",
    "\n",
    "The fitting of a GP endowed with an anisotropic RBF kernel obtains a different value of the `length_scale` for each variable.\n",
    "\n",
    "**Relate the length scale of each variable with its relevance in the predictive function**\n",
    "\n",
    "Hint: Consider how does the output of the predictive function changes as the value of a certain variable $x_k$ changes depending on $l_k^2$.\n",
    "\n",
    "In the next cell write code that fits a GP with an ARD kernel. \n",
    "\n",
    "**Print the lengthscale value of each feature after the kernel has been optimized** Hint, learn to use `kernel_get_params()`.** \n",
    "\n",
    "**Sort the features in order of decreasing importance in an array called `ARD_order`**\n",
    "\n",
    "**Print the score in the test set  of the GP with ARD kernel**"
   ]
  },
  {
   "cell_type": "markdown",
   "metadata": {},
   "source": [
    "In order to use an anisotropic kernel, the length_scale value of the parameters must be now an array, in which each dimension of the length defines the length scale of the respective feature dimension. First we will make the model and it's fit and after that we will talk about the relevance of the length scale and do the ARD_order."
   ]
  },
  {
   "cell_type": "code",
   "execution_count": 242,
   "metadata": {},
   "outputs": [
    {
     "name": "stdout",
     "output_type": "stream",
     "text": [
      "RBF(length_scale=[9.99e+04, 1.06, 7.14, 12.7, 10.4, 4.24e+04, 2.91, 4.69, 0.824, 1e+05])\n",
      "Score in the test set: -0.5771264857218248 \n",
      "\n",
      "{'alpha': 1e-10, 'copy_X_train': True, 'kernel__length_scale': array([1.5, 1.5, 1.5, 1.5, 1.5, 1.5, 1.5, 1.5, 1.5, 1.5]), 'kernel__length_scale_bounds': (0.01, 100000.0), 'kernel': RBF(length_scale=[1.5, 1.5, 1.5, 1.5, 1.5, 1.5, 1.5, 1.5, 1.5, 1.5]), 'n_restarts_optimizer': 10, 'normalize_y': False, 'optimizer': 'fmin_l_bfgs_b', 'random_state': 42}\n"
     ]
    }
   ],
   "source": [
    "from sklearn.linear_model import ARDRegression\n",
    "\n",
    "# define ARD kernel\n",
    "kernel_2 = RBF(length_scale =np.ones(10)*1.5 , length_scale_bounds=(1e-2, 1e5))\n",
    "\n",
    "# instantiate the GP\n",
    "gpr_2 = GaussianProcessRegressor(kernel=kernel_2, random_state=42, n_restarts_optimizer=10)\n",
    "gpr_2.fit(X_train, y_train)\n",
    "y_mean, y_std = gpr_2.predict(X_test, return_std=True)\n",
    "\n",
    "\n",
    "print(gpr_2.kernel_)\n",
    "print(\"Score in the test set:\", gpr_2.score(X_test, y_test), \"\\n\")\n",
    "print(gpr_2.get_params())\n",
    "\n",
    "\n"
   ]
  },
  {
   "cell_type": "markdown",
   "metadata": {},
   "source": [
    "So, before doing the ARD_order we will relate the length scale to the importance of each feature for the model and the predictive function. For that we will print again the final kernel:\n",
    "\n"
   ]
  },
  {
   "cell_type": "code",
   "execution_count": 243,
   "metadata": {},
   "outputs": [
    {
     "name": "stdout",
     "output_type": "stream",
     "text": [
      "RBF(length_scale=[9.99e+04, 1.06, 7.14, 12.7, 10.4, 4.24e+04, 2.91, 4.69, 0.824, 1e+05])\n"
     ]
    }
   ],
   "source": [
    "print(gpr_2.kernel_)"
   ]
  },
  {
   "cell_type": "markdown",
   "metadata": {},
   "source": [
    "As we can see we have bigger and smaller values, what do they mean? An small lengthscale means the function values can change quickly  while large ones characterize function features that vary less or slower. \n",
    "\n",
    "So, for characterizing which is more important we could say that those with LOWER lengthscales will have a bigger influence on the model as are those ones which will vary more, and in the other hand, those with higher values are features varying less so they can be almost irrelevant for the model.\n",
    "\n",
    "In fact here we can see that columns 2 and 9 have the lower values, meaning they are more relevant, and if we compare this with the last section selection of features some similarities can be obtained.\n",
    "\n",
    "Now let's put them in order:"
   ]
  },
  {
   "cell_type": "code",
   "execution_count": 244,
   "metadata": {},
   "outputs": [
    {
     "name": "stdout",
     "output_type": "stream",
     "text": [
      "{'8': 0.8236717136886791, '1': 1.0565176661802502, '6': 2.9110099793832354, '7': 4.692766254931119, '2': 7.1365101118146095, '4': 10.43112561354318, '3': 12.672145090763442, '5': 42428.8568838139, '0': 99917.09333889124, '9': 99950.48452157118}\n"
     ]
    }
   ],
   "source": [
    "#WE GET THE FEATURES IN ORDER\n",
    "params=gpr_2.kernel_.get_params()[\"length_scale\"]\n",
    "params=params.tolist()\n",
    "params_s=np.sort(params)\n",
    "params_sort=[]\n",
    "for i in range(len(params_s)):\n",
    "    params_sort.append(params_s[i])\n",
    "ARD_order={}\n",
    "for i in range(len(params_s)):\n",
    "    ARD_order[str(params.index(params_sort[i]))]=params_sort[i]\n",
    "    \n",
    "#ARD ORDER\n",
    "print(ARD_order)"
   ]
  },
  {
   "cell_type": "markdown",
   "metadata": {},
   "source": [
    "In the next cell write code that implements a `for loop` that in each iteration trains a GP with an ARD kernel but increasing the number of features in the ordering suggested by `ARD_order`. \n",
    "\n",
    "Plot the GP accuracy in the test set vs. the number of features used to model the problem."
   ]
  },
  {
   "cell_type": "code",
   "execution_count": 245,
   "metadata": {},
   "outputs": [
    {
     "name": "stdout",
     "output_type": "stream",
     "text": [
      "<class 'list'>\n"
     ]
    },
    {
     "name": "stderr",
     "output_type": "stream",
     "text": [
      "c:\\Users\\34649\\anaconda3\\envs\\ML\\lib\\site-packages\\sklearn\\gaussian_process\\_gpr.py:610: ConvergenceWarning: lbfgs failed to converge (status=2):\n",
      "ABNORMAL_TERMINATION_IN_LNSRCH.\n",
      "\n",
      "Increase the number of iterations (max_iter) or scale the data as shown in:\n",
      "    https://scikit-learn.org/stable/modules/preprocessing.html\n",
      "  _check_optimize_result(\"lbfgs\", opt_res)\n"
     ]
    },
    {
     "name": "stdout",
     "output_type": "stream",
     "text": [
      "Columns Used: [2]\n",
      "Score in the test set: -0.7633842859856375 \n",
      "\n",
      "\n",
      "OPTIMIZED KERNEL: RBF(length_scale=0.0249) \n",
      "\n",
      "\n"
     ]
    },
    {
     "name": "stderr",
     "output_type": "stream",
     "text": [
      "c:\\Users\\34649\\anaconda3\\envs\\ML\\lib\\site-packages\\sklearn\\gaussian_process\\_gpr.py:610: ConvergenceWarning: lbfgs failed to converge (status=2):\n",
      "ABNORMAL_TERMINATION_IN_LNSRCH.\n",
      "\n",
      "Increase the number of iterations (max_iter) or scale the data as shown in:\n",
      "    https://scikit-learn.org/stable/modules/preprocessing.html\n",
      "  _check_optimize_result(\"lbfgs\", opt_res)\n"
     ]
    },
    {
     "name": "stdout",
     "output_type": "stream",
     "text": [
      "Columns Used: [2, 8]\n",
      "Score in the test set: -3.036402008485174 \n",
      "\n",
      "\n",
      "OPTIMIZED KERNEL: RBF(length_scale=[0.124, 0.124]) \n",
      "\n",
      "\n",
      "Columns Used: [2, 8, 3]\n",
      "Score in the test set: -2.2758128711914356 \n",
      "\n",
      "\n",
      "OPTIMIZED KERNEL: RBF(length_scale=[0.236, 0.503, 1.69]) \n",
      "\n",
      "\n",
      "Columns Used: [2, 8, 3, 6]\n",
      "Score in the test set: -1.3267299554443137 \n",
      "\n",
      "\n",
      "OPTIMIZED KERNEL: RBF(length_scale=[8.83, 0.0386, 8.05, 4.26]) \n",
      "\n",
      "\n",
      "Columns Used: [2, 8, 3, 6, 9]\n",
      "Score in the test set: -0.6439265332380038 \n",
      "\n",
      "\n",
      "OPTIMIZED KERNEL: RBF(length_scale=[4.1, 0.619, 15.7, 15, 0.923]) \n",
      "\n",
      "\n",
      "Columns Used: [2, 8, 3, 6, 9, 0]\n",
      "Score in the test set: -0.3480217228341367 \n",
      "\n",
      "\n",
      "OPTIMIZED KERNEL: RBF(length_scale=[4.32, 0.537, 18.3, 3.64, 21.9, 5.5]) \n",
      "\n",
      "\n",
      "Columns Used: [2, 8, 3, 6, 9, 0, 4]\n",
      "Score in the test set: -0.17775802151015374 \n",
      "\n",
      "\n",
      "OPTIMIZED KERNEL: RBF(length_scale=[6.04, 0.785, 17.6, 2.89, 29.1, 9.05, 44]) \n",
      "\n",
      "\n"
     ]
    },
    {
     "name": "stderr",
     "output_type": "stream",
     "text": [
      "c:\\Users\\34649\\anaconda3\\envs\\ML\\lib\\site-packages\\sklearn\\gaussian_process\\kernels.py:430: ConvergenceWarning: The optimal value found for dimension 4 of parameter length_scale is close to the specified upper bound 100000.0. Increasing the bound and calling fit again may find a better value.\n",
      "  warnings.warn(\n",
      "c:\\Users\\34649\\anaconda3\\envs\\ML\\lib\\site-packages\\sklearn\\gaussian_process\\kernels.py:430: ConvergenceWarning: The optimal value found for dimension 5 of parameter length_scale is close to the specified upper bound 100000.0. Increasing the bound and calling fit again may find a better value.\n",
      "  warnings.warn(\n"
     ]
    },
    {
     "name": "stdout",
     "output_type": "stream",
     "text": [
      "Columns Used: [2, 8, 3, 6, 9, 0, 4, 5]\n",
      "Score in the test set: -0.796528885576953 \n",
      "\n",
      "\n",
      "OPTIMIZED KERNEL: RBF(length_scale=[6.13, 0.908, 14.8, 3.25, 1e+05, 1e+05, 4.87, 8.91e+04]) \n",
      "\n",
      "\n"
     ]
    },
    {
     "name": "stderr",
     "output_type": "stream",
     "text": [
      "c:\\Users\\34649\\anaconda3\\envs\\ML\\lib\\site-packages\\sklearn\\gaussian_process\\kernels.py:430: ConvergenceWarning: The optimal value found for dimension 4 of parameter length_scale is close to the specified upper bound 100000.0. Increasing the bound and calling fit again may find a better value.\n",
      "  warnings.warn(\n"
     ]
    },
    {
     "name": "stdout",
     "output_type": "stream",
     "text": [
      "Columns Used: [2, 8, 3, 6, 9, 0, 4, 5, 7]\n",
      "Score in the test set: -0.7555980324112461 \n",
      "\n",
      "\n",
      "OPTIMIZED KERNEL: RBF(length_scale=[4.65, 0.909, 16.9, 4.27, 1e+05, 1e+05, 4.81, 9.58e+04, 1.43]) \n",
      "\n",
      "\n",
      "Columns Used: [2, 8, 3, 6, 9, 0, 4, 5, 7, 1]\n",
      "Score in the test set: -0.45166085344827067 \n",
      "\n",
      "\n",
      "OPTIMIZED KERNEL: RBF(length_scale=[5.01, 0.946, 10.7, 13.9, 7.5, 16.3, 1e+05, 38, 3.5, 0.0211]) \n",
      "\n",
      "\n"
     ]
    },
    {
     "name": "stderr",
     "output_type": "stream",
     "text": [
      "c:\\Users\\34649\\anaconda3\\envs\\ML\\lib\\site-packages\\sklearn\\gaussian_process\\kernels.py:430: ConvergenceWarning: The optimal value found for dimension 6 of parameter length_scale is close to the specified upper bound 100000.0. Increasing the bound and calling fit again may find a better value.\n",
      "  warnings.warn(\n"
     ]
    }
   ],
   "source": [
    "cols=[]\n",
    "scores=[]\n",
    "columns_used=[]\n",
    "print(type(cols))\n",
    "for i in range(len(features)):\n",
    "    cols.append(int(list_features[i]))\n",
    "    \n",
    "    # define ARD kernel\n",
    "    kernel_3 = RBF(length_scale =np.ones(i+1)*1.5 , length_scale_bounds=(1e-2, 1e5))\n",
    "\n",
    "    # instantiate the GP\n",
    "    gpr_3 = GaussianProcessRegressor(kernel=kernel_3, random_state=42, n_restarts_optimizer=10)\n",
    "\n",
    "    gpr_3.fit(X_train[:,cols], y_train)\n",
    "    y_mean, y_std = gpr_3.predict(X_test[:, cols], return_std=True)\n",
    "\n",
    "    gpr_3_score=gpr_3.score(X_test[:,cols], y_test)\n",
    "    scores.append(gpr_3_score)\n",
    "    columns_used.append(i)\n",
    "    print(\"Columns Used:\", cols)\n",
    "    print(\"Score in the test set:\", gpr_3_score, \"\\n\")\n",
    "    #print(gpr.get_params()) output too long\n",
    "\n",
    "    print(\"\\nOPTIMIZED KERNEL:\",gpr_3.kernel_, \"\\n\\n\")"
   ]
  },
  {
   "cell_type": "code",
   "execution_count": 246,
   "metadata": {},
   "outputs": [
    {
     "name": "stdout",
     "output_type": "stream",
     "text": [
      "[-0.7633842859856375, -3.036402008485174, -2.2758128711914356, -1.3267299554443137, -0.6439265332380038, -0.3480217228341367, -0.17775802151015374, -0.796528885576953, -0.7555980324112461, -0.45166085344827067]\n",
      "[0, 1, 2, 3, 4, 5, 6, 7, 8, 9]\n"
     ]
    },
    {
     "data": {
      "image/png": "[encoded data removed]",
      "text/plain": [
       "<Figure size 432x288 with 1 Axes>"
      ]
     },
     "metadata": {
      "image/png": {
       "height": 261,
       "width": 393
      },
      "needs_background": "light"
     },
     "output_type": "display_data"
    }
   ],
   "source": [
    "print(scores)\n",
    "print(columns_used)\n",
    "\n",
    "plt.plot(np.array(columns_used), np.array(scores))\n",
    "plt.ylabel('accuracy')\n",
    "plt.xlabel('columns')\n",
    "plt.grid()"
   ]
  },
  {
   "cell_type": "markdown",
   "metadata": {},
   "source": [
    "### Your comments:\n",
    "\n",
    "**What is the best number of features to model the problem according to the ARD kernel?**\n",
    "\n",
    "**Does removing features improve the performance of RF?**\n",
    "\n",
    "**Are there noisy features? (Features that, if present, significantly worsen the performance of the GP)**\n",
    "\n",
    "**How does the feature selection suggested by the ARD kernel compare with that suggested by random forest?**"
   ]
  },
  {
   "cell_type": "code",
   "execution_count": null,
   "metadata": {},
   "outputs": [],
   "source": []
  },
  {
   "cell_type": "markdown",
   "metadata": {
    "id": "Pnqv8kpOdLzC"
   },
   "source": [
    "# 4. Exploring sophisticate kernels for the GP\n",
    "\n",
    "The greatest potentiality of GPs are the exploration of different kernels that capture the geometry of the inputs. \n",
    "\n",
    "Besides, the essential kernels can be combined into more sophisticate ones using the addition and multiplication operations.\n",
    "\n",
    "And the most interesting feature, the GP implementation is able to optimize the parameters of the kernel maximizing the likelihood of the observations, what saves the crossvalidation step for optimizing parameters.\n",
    "\n",
    "Read the [section 1.7.5 of this site](https://scikit-learn.org/stable/modules/gaussian_process.html) to learn the different kernels that are implemented in the scikit learn distribution of Gaussian Processes.\n",
    "\n",
    "In this section check at least ten different kernel configurations and evaluate if they improve the kernel evaluated in section 1. Remember this kernel was\n",
    "\n",
    "$$\n",
    "\\kappa_1(\\mathbf x_i, \\mathbf x_j) = \\kappa_r(\\mathbf x_i, \\mathbf x_j) + \\kappa_w(\\mathbf x_i, \\mathbf x_j)\n",
    "$$ where\n",
    "- $\\kappa_r(\\mathbf x_i, \\mathbf x_j)$ is an isotropic RBF kernel with length_scale $l$: \n",
    "$$\n",
    "\\kappa_r(\\mathbf x_i, \\mathbf x_j) = \\exp\\left( -\\frac{\\|\\mathbf x_i - \\mathbf x_j\\|^2}{2l^2}\\right)\n",
    "$$\n",
    "- $\\kappa_w(\\mathbf x_i, \\mathbf x_j)$ is a WhiteKernel that explains the additive noise component\n",
    "$$\n",
    "\\kappa_w(\\mathbf x_i, \\mathbf x_j) = \\left \\{ \\begin{array}{ll} \\sigma_n^2 & \\mbox{if } \\mathbf x_i== \\mathbf x_j \\\\ 0 & \\mbox{otherwise} \\end{array}\\right.\n",
    "$$\n",
    "\n",
    "Within the kernel combinations to explore you can include:\n",
    "1. Add a `ConstantKernel` to $\\kappa_1(\\mathbf x_i, \\mathbf x_j)$\n",
    "\n",
    "2. Replace $\\kappa_r(\\mathbf x_i, \\mathbf x_j)$ by an anisotropic RBF in $\\kappa_1(\\mathbf x_i, \\mathbf x_j)$. \n",
    "\n",
    "3. Individual kernels presented in the lecture\n",
    "\n",
    "4. Addition of several kernels\n",
    "\n",
    "5. Multiplication of several kernels\n",
    "\n",
    "6. Use your imagination!"
   ]
  },
  {
   "cell_type": "markdown",
   "metadata": {},
   "source": [
    "We will use the different kernel combinations to characterize how difficult is the problem at hand in terms of how difficult is to find out a kernel that achieves the best possible result in the test set.\n",
    "\n",
    "For this purpose:\n",
    "1. Group in a same array all the scores in the **test set** achieved by all the kernel combinations that you explore in this section. Consider carrying out this exploration in a programatic fashion.\n",
    "\n",
    "2. Discuss about the range of test accuracies that can be reached with GPs when the kernel is more carefully designed. Depending on the number of different kernels explored you might consider adding to your discussion\n",
    "- minimum, maximum, mean values\n",
    "- standard deviations\n",
    "- percentiles\n",
    "- histogram"
   ]
  },
  {
   "cell_type": "code",
   "execution_count": 247,
   "metadata": {
    "colab": {
     "base_uri": "https://localhost:8080/"
    },
    "executionInfo": {
     "elapsed": 382147,
     "status": "ok",
     "timestamp": 1604483138700,
     "user": {
      "displayName": "EMILIO PARRADO HERNANDEZ",
      "photoUrl": "https://lh3.googleusercontent.com/a-/AOh14Ghu-OvX6osyVq8b7J4Xa7D7HiZ61sPYwKqgPxyJ=s64",
      "userId": "09506376050266996513"
     },
     "user_tz": -60
    },
    "id": "-w5KJnordc0Y",
    "outputId": "a7e7438b-864a-4559-d112-91af32f60bb1"
   },
   "outputs": [],
   "source": [
    "#############\n",
    "#           #\n",
    "# YOUR CODE #\n",
    "#           #\n",
    "#############\n"
   ]
  },
  {
   "cell_type": "markdown",
   "metadata": {
    "executionInfo": {
     "elapsed": 389618,
     "status": "ok",
     "timestamp": 1604483146195,
     "user": {
      "displayName": "EMILIO PARRADO HERNANDEZ",
      "photoUrl": "https://lh3.googleusercontent.com/a-/AOh14Ghu-OvX6osyVq8b7J4Xa7D7HiZ61sPYwKqgPxyJ=s64",
      "userId": "09506376050266996513"
     },
     "user_tz": -60
    },
    "id": "7xyVyI6Yy76w"
   },
   "source": [
    "# Items for discussion\n",
    "- Which strategy turned out to be the best in terms of increasing the performance of the GP? \n",
    "- Did this strategy performed significantly better than the others?\n",
    "- Kernel design pushes the GP model further into the **black box method** region, what is the price you pay for sticking to the more interpretable ARD kernel in terms of accuracy? "
   ]
  },
  {
   "cell_type": "code",
   "execution_count": null,
   "metadata": {},
   "outputs": [],
   "source": []
  }
 ],
 "metadata": {
  "celltoolbar": "Slideshow",
  "colab": {
   "collapsed_sections": [],
   "name": "lab_regression.ipynb",
   "provenance": []
  },
  "kernelspec": {
   "display_name": "Python 3.10.6 ('ML')",
   "language": "python",
   "name": "python3"
  },
  "language_info": {
   "codemirror_mode": {
    "name": "ipython",
    "version": 3
   },
   "file_extension": ".py",
   "mimetype": "text/x-python",
   "name": "python",
   "nbconvert_exporter": "python",
   "pygments_lexer": "ipython3",
   "version": "3.10.6"
  },
  "vscode": {
   "interpreter": {
    "hash": "a2c1cf04fc5330555aeddeaceb8bd799bae0d7a5611f971e6aa1a14ae2d20c50"
   }
  }
 },
 "nbformat": 4,
 "nbformat_minor": 1
}
